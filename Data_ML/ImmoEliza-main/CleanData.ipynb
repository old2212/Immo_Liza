{
 "cells": [
  {
   "cell_type": "markdown",
   "metadata": {},
   "source": [
    "# Clean Data"
   ]
  },
  {
   "cell_type": "markdown",
   "metadata": {},
   "source": [
    "## Do the usefuls imports"
   ]
  },
  {
   "cell_type": "code",
   "execution_count": 1,
   "metadata": {},
   "outputs": [],
   "source": [
    "import pandas as pd\n",
    "import numpy as np\n",
    "from sklearn.utils import shuffle\n",
    "from sklearn.model_selection  import train_test_split"
   ]
  },
  {
   "cell_type": "markdown",
   "metadata": {},
   "source": [
    "## Add mapping for type of kitchen + state of building + type of property, change nan in 0"
   ]
  },
  {
   "cell_type": "code",
   "execution_count": 2,
   "metadata": {},
   "outputs": [
    {
     "name": "stdout",
     "output_type": "stream",
     "text": [
      "Index(['Unnamed: 0', 'id', 'locality', 'postal_code', 'region', 'province',\n",
      "       'type_of_property', 'subtype_of_property', 'type_of_sale', 'price',\n",
      "       'number_of_bedrooms', 'surface', 'kitchen_type',\n",
      "       'fully_equipped_kitchen', 'furnished', 'open_fire', 'terrace',\n",
      "       'terrace_surface', 'garden', 'garden_surface', 'land_surface',\n",
      "       'number_of_facades', 'swimming_pool', 'state_of_the_building'],\n",
      "      dtype='object')\n"
     ]
    }
   ],
   "source": [
    "df = pd.read_csv('60k.csv')\n",
    "\n",
    "labels = df.columns\n",
    "print(labels)\n",
    "\n",
    "for label in labels :\n",
    "\n",
    "    df[label] =df[label].replace(-1, np.nan)\n",
    "    \n",
    "map_type_of_property = {\n",
    "                        \"HOUSE\" : 0,\n",
    "                        \"APARTMENT\" : 1\n",
    "                        }\n",
    "\n",
    "map_state_of_the_building = {\n",
    "                            \"AS_NEW\" : 1.0,\n",
    "                            \"JUST_RENOVATED\" : 1.0,\n",
    "                            \"GOOD\" : 1.0,\n",
    "                            \"TO_BE_DONE_UP\" : 0.0,\n",
    "                            \"TO_RENOVATE\" : 0.0,\n",
    "                            \"TO_RESTORE\" : 0.0,\n",
    "                            \"NO_INFO\" : 0.0\n",
    "                            }\n",
    "\n",
    "map_kitchen_type = {            \n",
    "                            \"USA_HYPER_EQUIPPED\" : 1.0,\n",
    "                            \"HYPER_EQUIPPED\" : 1.0,\n",
    "                            \"USA_INSTALLED\" : 1.0,\n",
    "                            \"INSTALLED\" : 1.0,\n",
    "                            \"SEMI_EQUIPPED\" : 1.0,\n",
    "                            \"USA_SEMI_EQUIPPED\" : 1.0,\n",
    "                            \"USA_UNINSTALLED\" : 0.0,\n",
    "                            \"NOT_INSTALLED\" : 0.0,\n",
    "                            \"NO_INFO\" : 0.0\n",
    "                            }\n",
    "\n",
    "df[\"type_of_property\"] = df[\"type_of_property\"].map(map_type_of_property)\n",
    "df[\"state_of_the_building\"] = df[\"state_of_the_building\"].map(map_state_of_the_building)\n",
    "df[\"kitchen_type\"] = df[\"kitchen_type\"].map(map_kitchen_type)\n",
    "df[\"furnished\"] = df[\"furnished\"].fillna(0.0)\n",
    "df[\"swimming_pool\"] = df[\"swimming_pool\"].fillna(0.0)\n",
    "df[\"garden\"] = df[\"garden\"].fillna(0.0)\n",
    "df[\"garden_surface\"] = df[\"garden_surface\"].fillna(0.0)\n",
    "df[\"land_surface\"] = df[\"land_surface\"].fillna(0.0)\n",
    "df[\"number_of_facades\"] = df[\"number_of_facades\"].fillna(0.0)\n",
    "df[\"open_fire\"] = df[\"open_fire\"].fillna(0.0)\n",
    "df[\"terrace\"] = df[\"terrace\"].fillna(0.0)\n",
    "df[\"terrace_surface\"] = df[\"terrace_surface\"].fillna(0.0)\n",
    "\n",
    "df = df[(df[\"type_of_sale\"] == \"residential_sale\")]\n",
    "df = df[(df[\"type_of_property\"] == 0)|(df[\"type_of_property\"] == 1)]\n",
    "df[\"priceperm2\"] = df[\"price\"]/df[\"surface\"]\n",
    "df = df[~(df[\"priceperm2\"].isna())]\n",
    "df = df[~(df[\"number_of_bedrooms\"].isna())]"
   ]
  },
  {
   "cell_type": "markdown",
   "metadata": {},
   "source": [
    "## Load Belgium district mapping"
   ]
  },
  {
   "cell_type": "code",
   "execution_count": 3,
   "metadata": {},
   "outputs": [],
   "source": [
    "column_names_zip = ['country_code','postal_code','municipality','region','region_code','province', 'province_code','arrondissement', 'nbr_mun', 'longitude', 'latitude','other']\n",
    "zip_code = pd.read_csv('be_zipcode.txt', sep=\"\\t\", header=None , names=column_names_zip).drop_duplicates(['postal_code'])\n",
    "zip_code = zip_code[['postal_code','arrondissement']]"
   ]
  },
  {
   "cell_type": "markdown",
   "metadata": {},
   "source": [
    "## Add district column in Immoweb dataframe"
   ]
  },
  {
   "cell_type": "code",
   "execution_count": 4,
   "metadata": {},
   "outputs": [],
   "source": [
    "dict_postalcode_district = {}\n",
    "\n",
    "for index , row in zip_code.iterrows() :\n",
    "    dict_postalcode_district[row[\"postal_code\"]] = row[\"arrondissement\"]\n",
    "\n",
    "df[\"district\"] = df[\"postal_code\"].map(dict_postalcode_district)"
   ]
  },
  {
   "cell_type": "markdown",
   "metadata": {},
   "source": [
    "## remove useless column and create training and testing dataset"
   ]
  },
  {
   "cell_type": "code",
   "execution_count": 5,
   "metadata": {},
   "outputs": [
    {
     "data": {
      "text/plain": [
       "'\\ncheck that all nan are removed\\n\\ndf.shape\\n\\nlabels = df.columns\\n\\nfor label in labels :\\n\\n     df = df[df[label].notna()]\\n\\ndf.shape\\n'"
      ]
     },
     "execution_count": 5,
     "metadata": {},
     "output_type": "execute_result"
    }
   ],
   "source": [
    "df = df.drop(\"Unnamed: 0\", axis = 1)\n",
    "df = df.drop(\"subtype_of_property\", axis = 1)\n",
    "df = df.drop(\"fully_equipped_kitchen\", axis = 1)\n",
    "df = df.drop(\"type_of_sale\", axis = 1)\n",
    "df = df.drop(\"locality\", axis = 1)\n",
    "\n",
    "df = shuffle(df)\n",
    "\n",
    "df_train, df_dev_test = train_test_split(df,test_size = 0.3)\n",
    "df_dev, df_test = train_test_split(df_dev_test,test_size = 0.5)\n",
    "\n",
    "df_train = df_train.reset_index(drop = True)\n",
    "df_dev = df_dev.reset_index(drop = True)\n",
    "df_test = df_test.reset_index(drop = True)\n",
    "\n",
    "df_train.to_csv(\"df_train.csv\",index = False)\n",
    "df_dev.to_csv(\"df_dev.csv\",index = False)\n",
    "df_test.to_csv(\"df_test.csv\",index = False)\n",
    "\n",
    "\"\"\"\n",
    "check that all nan are removed\n",
    "\n",
    "df.shape\n",
    "\n",
    "labels = df.columns\n",
    "\n",
    "for label in labels :\n",
    "\n",
    "     df = df[df[label].notna()]\n",
    "\n",
    "df.shape\n",
    "\"\"\""
   ]
  }
 ],
 "metadata": {
  "kernelspec": {
   "display_name": "Python 3.10.6 64-bit",
   "language": "python",
   "name": "python3"
  },
  "language_info": {
   "codemirror_mode": {
    "name": "ipython",
    "version": 3
   },
   "file_extension": ".py",
   "mimetype": "text/x-python",
   "name": "python",
   "nbconvert_exporter": "python",
   "pygments_lexer": "ipython3",
   "version": "3.10.6"
  },
  "orig_nbformat": 4,
  "vscode": {
   "interpreter": {
    "hash": "916dbcbb3f70747c44a77c7bcd40155683ae19c65e1c03b4aa3499c5328201f1"
   }
  }
 },
 "nbformat": 4,
 "nbformat_minor": 2
}
