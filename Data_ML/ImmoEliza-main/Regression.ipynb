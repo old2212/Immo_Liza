{
 "cells": [
  {
   "cell_type": "markdown",
   "metadata": {},
   "source": [
    "# Data Regression"
   ]
  },
  {
   "cell_type": "markdown",
   "metadata": {},
   "source": [
    "## Do the usefuls imports"
   ]
  },
  {
   "cell_type": "code",
   "execution_count": 1,
   "metadata": {},
   "outputs": [],
   "source": [
    "import pandas as pd\n",
    "import numpy as np\n",
    "from sklearn.linear_model import LinearRegression"
   ]
  },
  {
   "cell_type": "markdown",
   "metadata": {},
   "source": [
    "## Add Localisation Score feature (based on : postal code & district & provinces)"
   ]
  },
  {
   "cell_type": "code",
   "execution_count": 10,
   "metadata": {},
   "outputs": [],
   "source": [
    "df = pd.read_csv('df_train.csv')\n",
    "\n",
    "df[\"localisation_score\"] = np.nan\n",
    "\n",
    "for index, row in df.iterrows() :\n",
    "\n",
    "    if df[df[\"postal_code\"] == row[\"postal_code\"]].shape[0] > 30 :\n",
    "\n",
    "        df.loc[index,[\"localisation_score\"]] = df[df[\"postal_code\"]== row[\"postal_code\"]][\"price\"].mean()\n",
    "\n",
    "    elif df[df[\"district\"] == row[\"district\"]].shape[0] > 30 :\n",
    "\n",
    "        df.loc[index,[\"localisation_score\"]] = df[df[\"district\"]== row[\"district\"]][\"price\"].mean()\n",
    "\n",
    "    else :\n",
    "\n",
    "        df.loc[index,[\"localisation_score\"]] = df[df[\"province\"]== row[\"province\"]][\"price\"].mean()"
   ]
  },
  {
   "cell_type": "markdown",
   "metadata": {},
   "source": [
    "## Standardisation of values"
   ]
  },
  {
   "cell_type": "code",
   "execution_count": null,
   "metadata": {},
   "outputs": [],
   "source": [
    "#df[\"surface\"] = (df[\"surface\"]-df[\"surface\"].mean())/(df[\"surface\"].std())\n",
    "#df[\"localisation_score\"] = (df[\"localisation_score\"]-df[\"price\"].mean())/(df[\"price\"].std())"
   ]
  },
  {
   "cell_type": "markdown",
   "metadata": {},
   "source": [
    "## Prepare X and Y dataset"
   ]
  },
  {
   "cell_type": "code",
   "execution_count": 22,
   "metadata": {},
   "outputs": [],
   "source": [
    "df_x_train = df[[\"surface\",\"type_of_property\",\"localisation_score\",\"state_of_the_building\",\"number_of_bedrooms\",\"garden\",\"garden_surface\",\"terrace\",\"terrace_surface\",\"swimming_pool\",\"furnished\",\"land_surface\",\"open_fire\"]]\n",
    "df_y_train = df[\"price\"]"
   ]
  },
  {
   "cell_type": "markdown",
   "metadata": {},
   "source": [
    "## Regression time"
   ]
  },
  {
   "cell_type": "code",
   "execution_count": 23,
   "metadata": {},
   "outputs": [
    {
     "data": {
      "text/plain": [
       "0.45380062669105115"
      ]
     },
     "execution_count": 23,
     "metadata": {},
     "output_type": "execute_result"
    }
   ],
   "source": [
    "model1 = LinearRegression()\n",
    "\n",
    "model1.fit(df_x_train,df_y_train)\n",
    "model1.score(df_x_train,df_y_train)"
   ]
  },
  {
   "cell_type": "markdown",
   "metadata": {},
   "source": [
    "## Bis with price/m²"
   ]
  },
  {
   "cell_type": "code",
   "execution_count": 17,
   "metadata": {},
   "outputs": [],
   "source": [
    "df_bis = pd.read_csv('df_train.csv')\n",
    "\n",
    "df_bis[\"localisation_score\"] = np.nan\n",
    "\n",
    "for index, row in df_bis.iterrows() :\n",
    "\n",
    "    if df_bis[df_bis[\"postal_code\"] == row[\"postal_code\"]].shape[0] > 30 :\n",
    "\n",
    "        df_bis.loc[index,[\"localisation_score\"]] = df_bis[df_bis[\"postal_code\"]== row[\"postal_code\"]][\"priceperm2\"].median()\n",
    "\n",
    "    elif df_bis[df_bis[\"district\"] == row[\"district\"]].shape[0] > 30 :\n",
    "\n",
    "        df_bis.loc[index,[\"localisation_score\"]] = df_bis[df_bis[\"district\"]== row[\"district\"]][\"priceperm2\"].median()\n",
    "\n",
    "    else :\n",
    "\n",
    "        df_bis.loc[index,[\"localisation_score\"]] = df_bis[df_bis[\"province\"]== row[\"province\"]][\"priceperm2\"].median()"
   ]
  },
  {
   "cell_type": "code",
   "execution_count": 24,
   "metadata": {},
   "outputs": [
    {
     "data": {
      "text/plain": [
       "0.43974259472799637"
      ]
     },
     "execution_count": 24,
     "metadata": {},
     "output_type": "execute_result"
    }
   ],
   "source": [
    "df_x_train_bis = df_bis[[\"surface\",\"type_of_property\",\"localisation_score\",\"state_of_the_building\",\"number_of_bedrooms\",\"garden\",\"garden_surface\",\"terrace\",\"terrace_surface\",\"swimming_pool\",\"furnished\",\"land_surface\",\"open_fire\"]]\n",
    "df_y_train_bis = df_bis[\"price\"]\n",
    "\n",
    "model2 = LinearRegression()\n",
    "\n",
    "model2.fit(df_x_train_bis,df_y_train_bis)\n",
    "model2.score(df_x_train_bis,df_y_train_bis)"
   ]
  }
 ],
 "metadata": {
  "kernelspec": {
   "display_name": "Python 3.10.6 64-bit",
   "language": "python",
   "name": "python3"
  },
  "language_info": {
   "codemirror_mode": {
    "name": "ipython",
    "version": 3
   },
   "file_extension": ".py",
   "mimetype": "text/x-python",
   "name": "python",
   "nbconvert_exporter": "python",
   "pygments_lexer": "ipython3",
   "version": "3.10.6"
  },
  "orig_nbformat": 4,
  "vscode": {
   "interpreter": {
    "hash": "916dbcbb3f70747c44a77c7bcd40155683ae19c65e1c03b4aa3499c5328201f1"
   }
  }
 },
 "nbformat": 4,
 "nbformat_minor": 2
}
