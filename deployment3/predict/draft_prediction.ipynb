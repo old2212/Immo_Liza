{
 "cells": [
  {
   "cell_type": "code",
   "execution_count": 15,
   "metadata": {},
   "outputs": [
    {
     "name": "stderr",
     "output_type": "stream",
     "text": [
      "/usr/local/lib/python3.10/site-packages/sklearn/base.py:450: UserWarning: X does not have valid feature names, but LinearRegression was fitted with feature names\n",
      "  warnings.warn(\n"
     ]
    },
    {
     "data": {
      "text/plain": [
       "547740"
      ]
     },
     "execution_count": 15,
     "metadata": {},
     "output_type": "execute_result"
    }
   ],
   "source": [
    "#config\n",
    "\n",
    "import json\n",
    "import time\n",
    "import seaborn as sb\n",
    "import numpy as np\n",
    "import pandas as pd\n",
    "import matplotlib.pyplot as plt\n",
    "import scipy.stats as stats\n",
    "from numpy import NaN\n",
    "from sklearn.utils import shuffle\n",
    "from sklearn.model_selection  import train_test_split\n",
    "from sklearn.linear_model import LinearRegression\n",
    "from sklearn.metrics import mean_squared_error, mean_absolute_error\n",
    "from sklearn import preprocessing\n",
    "from sklearn.preprocessing import OneHotEncoder\n",
    "from sklearn import metrics\n",
    "from sklearn.neighbors import KNeighborsClassifier as KNN\n",
    "from sklearn.datasets import load_iris\n",
    "import pickle\n",
    "from numpy import loadtxt\n",
    "from numpy import savetxt\n",
    "import array\n",
    "\n",
    "\n",
    "# Load the Model back from file\n",
    "def predict() :\n",
    "    output_data = loadtxt('/Users/olivier_ld/Desktop/Becode-cloud/Projects/ImmoLiza/deployment/processing/output_data_immoweb.csv', delimiter=',')\n",
    "    Pkl_Filename = \"/Users/olivier_ld/Desktop/Becode-cloud/Projects/ImmoLiza/deployment/model/Pickle_RL_Model.pkl\"\n",
    "    with open(Pkl_Filename, 'rb') as file:  \n",
    "        Pickled_LR_Model = pickle.load(file)\n",
    "    Ypredict = Pickled_LR_Model.predict([output_data])\n",
    "    return int(Ypredict)\n",
    "    # output_data = savetxt('/Users/olivier_ld/Desktop/Becode-cloud/Projects/ImmoLiza/deployment/model/output_price_predict.csv', Ypredict, delimiter=',')\n",
    "predict()"
   ]
  },
  {
   "cell_type": "code",
   "execution_count": 8,
   "metadata": {},
   "outputs": [
    {
     "ename": "FileNotFoundError",
     "evalue": "/Users/olivier_ld/Desktop/Becode-cloud/Projects/ImmoLiza/deployment/predict/output_data_immoweb.csv not found.",
     "output_type": "error",
     "traceback": [
      "\u001b[0;31m---------------------------------------------------------------------------\u001b[0m",
      "\u001b[0;31mFileNotFoundError\u001b[0m                         Traceback (most recent call last)",
      "Cell \u001b[0;32mIn [8], line 1\u001b[0m\n\u001b[0;32m----> 1\u001b[0m output_data \u001b[39m=\u001b[39m loadtxt(\u001b[39m'\u001b[39;49m\u001b[39m/Users/olivier_ld/Desktop/Becode-cloud/Projects/ImmoLiza/deployment/predict/output_data_immoweb.csv\u001b[39;49m\u001b[39m'\u001b[39;49m, delimiter\u001b[39m=\u001b[39;49m\u001b[39m'\u001b[39;49m\u001b[39m,\u001b[39;49m\u001b[39m'\u001b[39;49m)\n\u001b[1;32m      3\u001b[0m output_data\n",
      "File \u001b[0;32m/usr/local/lib/python3.10/site-packages/numpy/lib/npyio.py:1318\u001b[0m, in \u001b[0;36mloadtxt\u001b[0;34m(fname, dtype, comments, delimiter, converters, skiprows, usecols, unpack, ndmin, encoding, max_rows, quotechar, like)\u001b[0m\n\u001b[1;32m   1315\u001b[0m \u001b[39mif\u001b[39;00m \u001b[39misinstance\u001b[39m(delimiter, \u001b[39mbytes\u001b[39m):\n\u001b[1;32m   1316\u001b[0m     delimiter \u001b[39m=\u001b[39m delimiter\u001b[39m.\u001b[39mdecode(\u001b[39m'\u001b[39m\u001b[39mlatin1\u001b[39m\u001b[39m'\u001b[39m)\n\u001b[0;32m-> 1318\u001b[0m arr \u001b[39m=\u001b[39m _read(fname, dtype\u001b[39m=\u001b[39;49mdtype, comment\u001b[39m=\u001b[39;49mcomment, delimiter\u001b[39m=\u001b[39;49mdelimiter,\n\u001b[1;32m   1319\u001b[0m             converters\u001b[39m=\u001b[39;49mconverters, skiplines\u001b[39m=\u001b[39;49mskiprows, usecols\u001b[39m=\u001b[39;49musecols,\n\u001b[1;32m   1320\u001b[0m             unpack\u001b[39m=\u001b[39;49munpack, ndmin\u001b[39m=\u001b[39;49mndmin, encoding\u001b[39m=\u001b[39;49mencoding,\n\u001b[1;32m   1321\u001b[0m             max_rows\u001b[39m=\u001b[39;49mmax_rows, quote\u001b[39m=\u001b[39;49mquotechar)\n\u001b[1;32m   1323\u001b[0m \u001b[39mreturn\u001b[39;00m arr\n",
      "File \u001b[0;32m/usr/local/lib/python3.10/site-packages/numpy/lib/npyio.py:955\u001b[0m, in \u001b[0;36m_read\u001b[0;34m(fname, delimiter, comment, quote, imaginary_unit, usecols, skiplines, max_rows, converters, ndmin, unpack, dtype, encoding)\u001b[0m\n\u001b[1;32m    953\u001b[0m     fname \u001b[39m=\u001b[39m os\u001b[39m.\u001b[39mfspath(fname)\n\u001b[1;32m    954\u001b[0m \u001b[39mif\u001b[39;00m \u001b[39misinstance\u001b[39m(fname, \u001b[39mstr\u001b[39m):\n\u001b[0;32m--> 955\u001b[0m     fh \u001b[39m=\u001b[39m np\u001b[39m.\u001b[39;49mlib\u001b[39m.\u001b[39;49m_datasource\u001b[39m.\u001b[39;49mopen(fname, \u001b[39m'\u001b[39;49m\u001b[39mrt\u001b[39;49m\u001b[39m'\u001b[39;49m, encoding\u001b[39m=\u001b[39;49mencoding)\n\u001b[1;32m    956\u001b[0m     \u001b[39mif\u001b[39;00m encoding \u001b[39mis\u001b[39;00m \u001b[39mNone\u001b[39;00m:\n\u001b[1;32m    957\u001b[0m         encoding \u001b[39m=\u001b[39m \u001b[39mgetattr\u001b[39m(fh, \u001b[39m'\u001b[39m\u001b[39mencoding\u001b[39m\u001b[39m'\u001b[39m, \u001b[39m'\u001b[39m\u001b[39mlatin1\u001b[39m\u001b[39m'\u001b[39m)\n",
      "File \u001b[0;32m/usr/local/lib/python3.10/site-packages/numpy/lib/_datasource.py:193\u001b[0m, in \u001b[0;36mopen\u001b[0;34m(path, mode, destpath, encoding, newline)\u001b[0m\n\u001b[1;32m    156\u001b[0m \u001b[39m\"\"\"\u001b[39;00m\n\u001b[1;32m    157\u001b[0m \u001b[39mOpen `path` with `mode` and return the file object.\u001b[39;00m\n\u001b[1;32m    158\u001b[0m \n\u001b[0;32m   (...)\u001b[0m\n\u001b[1;32m    189\u001b[0m \n\u001b[1;32m    190\u001b[0m \u001b[39m\"\"\"\u001b[39;00m\n\u001b[1;32m    192\u001b[0m ds \u001b[39m=\u001b[39m DataSource(destpath)\n\u001b[0;32m--> 193\u001b[0m \u001b[39mreturn\u001b[39;00m ds\u001b[39m.\u001b[39;49mopen(path, mode, encoding\u001b[39m=\u001b[39;49mencoding, newline\u001b[39m=\u001b[39;49mnewline)\n",
      "File \u001b[0;32m/usr/local/lib/python3.10/site-packages/numpy/lib/_datasource.py:533\u001b[0m, in \u001b[0;36mDataSource.open\u001b[0;34m(self, path, mode, encoding, newline)\u001b[0m\n\u001b[1;32m    530\u001b[0m     \u001b[39mreturn\u001b[39;00m _file_openers[ext](found, mode\u001b[39m=\u001b[39mmode,\n\u001b[1;32m    531\u001b[0m                               encoding\u001b[39m=\u001b[39mencoding, newline\u001b[39m=\u001b[39mnewline)\n\u001b[1;32m    532\u001b[0m \u001b[39melse\u001b[39;00m:\n\u001b[0;32m--> 533\u001b[0m     \u001b[39mraise\u001b[39;00m \u001b[39mFileNotFoundError\u001b[39;00m(\u001b[39mf\u001b[39m\u001b[39m\"\u001b[39m\u001b[39m{\u001b[39;00mpath\u001b[39m}\u001b[39;00m\u001b[39m not found.\u001b[39m\u001b[39m\"\u001b[39m)\n",
      "\u001b[0;31mFileNotFoundError\u001b[0m: /Users/olivier_ld/Desktop/Becode-cloud/Projects/ImmoLiza/deployment/predict/output_data_immoweb.csv not found."
     ]
    }
   ],
   "source": [
    "output_data = loadtxt('/Users/olivier_ld/Desktop/Becode-cloud/Projects/ImmoLiza/deployment/predict/output_data_immoweb.csv', delimiter=',')\n",
    "\n",
    "output_data"
   ]
  },
  {
   "cell_type": "code",
   "execution_count": 16,
   "metadata": {},
   "outputs": [],
   "source": [
    "#config\n",
    "\n",
    "import json\n",
    "import time\n",
    "import seaborn as sb\n",
    "import numpy as np\n",
    "import pandas as pd\n",
    "import matplotlib.pyplot as plt\n",
    "import scipy.stats as stats\n",
    "from numpy import NaN\n",
    "from sklearn.utils import shuffle\n",
    "from sklearn.model_selection  import train_test_split\n",
    "from sklearn.linear_model import LinearRegression\n",
    "from sklearn.metrics import mean_squared_error, mean_absolute_error\n",
    "from sklearn import preprocessing\n",
    "from sklearn.preprocessing import OneHotEncoder\n",
    "from sklearn import metrics\n",
    "from sklearn.neighbors import KNeighborsClassifier as KNN\n",
    "from sklearn.datasets import load_iris\n",
    "import pickle\n",
    "from numpy import loadtxt\n",
    "from numpy import savetxt\n",
    "import array\n",
    "import sys\n",
    "from os import path\n",
    "#import functions from other repository in deployment\n",
    "sys.path.append(path.abspath('/Users/olivier_ld/Desktop/Becode-cloud/Projects/ImmoLiza/deployment'))\n",
    "from processing.cleaning_data import preprocess\n",
    "\n",
    "# Load the Model back from file\n",
    "def predict(item) :\n",
    "    #Get output_data file to load in the model\n",
    "    # output_data = loadtxt('/Users/olivier_ld/Desktop/Becode-cloud/Projects/ImmoLiza/deployment/processing/output_data_immoweb.csv', delimiter=',')\n",
    "    #Load the saved model\n",
    "    X_test = preprocess(item)\n",
    "    Pkl_Filename = \"/Users/olivier_ld/Desktop/Becode-cloud/Projects/ImmoLiza/deployment/model/Pickle_RL_Model.pkl\"\n",
    "    with open(Pkl_Filename, 'rb') as file:  \n",
    "        Pickled_LR_Model = pickle.load(file)\n",
    "    #run the model with the output_data\n",
    "    Ypredict = Pickled_LR_Model.predict([X_test])\n",
    "    #save my result of predicted_price\n",
    "    #Ypredict = savetxt('/Users/olivier_ld/Desktop/Becode-cloud/Projects/ImmoLiza/deployment/predict/output_price_predict.csv', Ypredict, delimiter=',')\n",
    "    return Ypredict[0]"
   ]
  },
  {
   "cell_type": "code",
   "execution_count": null,
   "metadata": {},
   "outputs": [],
   "source": [
    "import json\n",
    "import time\n",
    "import seaborn as sb\n",
    "import numpy as np\n",
    "import pandas as pd\n",
    "import matplotlib.pyplot as plt\n",
    "import scipy.stats as stats\n",
    "from numpy import NaN\n",
    "from sklearn.utils import shuffle\n",
    "from sklearn.model_selection  import train_test_split\n",
    "from sklearn.linear_model import LinearRegression\n",
    "from sklearn.metrics import mean_squared_error, mean_absolute_error\n",
    "from sklearn import preprocessing\n",
    "from sklearn.preprocessing import OneHotEncoder\n",
    "from sklearn import metrics\n",
    "from sklearn.neighbors import KNeighborsClassifier as KNN\n",
    "from sklearn.datasets import load_iris\n",
    "import pickle\n",
    "from numpy import loadtxt\n",
    "from numpy import savetxt\n",
    "import array\n",
    "import sys\n",
    "from os import path\n",
    "#import functions from other repository in deployment\n",
    "sys.path.append(path.abspath('/Users/olivier_ld/Desktop/Becode-cloud/Projects/ImmoLiza/deployment'))\n",
    "from processing.cleaning_data import preprocess\n",
    "\n",
    "# Load the Model back from file\n",
    "def predict(item) :\n",
    "    #Load the saved model\n",
    "    X_test = preprocess(item)\n",
    "    Pkl_Filename = \"/Users/olivier_ld/Desktop/Becode-cloud/Projects/ImmoLiza/deployment/model/Pickle_RL_Model.pkl\"\n",
    "    with open(Pkl_Filename, 'rb') as file:  \n",
    "        Pickled_LR_Model = pickle.load(file)\n",
    "    #run the model with the output_data\n",
    "    Ypredict = Pickled_LR_Model.predict([X_test])\n",
    "    #save my result of predicted_price\n",
    "    return Ypredict[0]\n",
    "    predict(item)"
   ]
  }
 ],
 "metadata": {
  "kernelspec": {
   "display_name": "Python 3.10.8 64-bit",
   "language": "python",
   "name": "python3"
  },
  "language_info": {
   "codemirror_mode": {
    "name": "ipython",
    "version": 3
   },
   "file_extension": ".py",
   "mimetype": "text/x-python",
   "name": "python",
   "nbconvert_exporter": "python",
   "pygments_lexer": "ipython3",
   "version": "3.10.8"
  },
  "orig_nbformat": 4,
  "vscode": {
   "interpreter": {
    "hash": "aee8b7b246df8f9039afb4144a1f6fd8d2ca17a180786b69acc140d282b71a49"
   }
  }
 },
 "nbformat": 4,
 "nbformat_minor": 2
}
